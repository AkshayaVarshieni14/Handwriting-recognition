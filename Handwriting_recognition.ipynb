{
  "nbformat": 4,
  "nbformat_minor": 0,
  "metadata": {
    "colab": {
      "provenance": []
    },
    "kernelspec": {
      "name": "python3",
      "display_name": "Python 3"
    },
    "language_info": {
      "name": "python"
    },
    "accelerator": "TPU"
  },
  "cells": [
    {
      "cell_type": "code",
      "execution_count": null,
      "metadata": {
        "id": "HKXizDfA7uc5"
      },
      "outputs": [],
      "source": [
        "import tensorflow as tf\n",
        "from tensorflow import keras\n",
        "import matplotlib.pyplot as plt\n",
        "%matplotlib inline\n",
        "import numpy as np"
      ]
    },
    {
      "cell_type": "code",
      "source": [
        "(x_train,y_train),(x_test,y_test)=keras.datasets.mnist.load_data()"
      ],
      "metadata": {
        "colab": {
          "base_uri": "https://localhost:8080/"
        },
        "id": "MTAafctW8KuR",
        "outputId": "a85f74ed-eed4-4f0d-a18c-35423b9c3499"
      },
      "execution_count": null,
      "outputs": [
        {
          "output_type": "stream",
          "name": "stdout",
          "text": [
            "Downloading data from https://storage.googleapis.com/tensorflow/tf-keras-datasets/mnist.npz\n",
            "11490434/11490434 [==============================] - 0s 0us/step\n"
          ]
        }
      ]
    },
    {
      "cell_type": "code",
      "source": [
        "len(x_train)"
      ],
      "metadata": {
        "colab": {
          "base_uri": "https://localhost:8080/"
        },
        "id": "7G3-1oBl8i5f",
        "outputId": "d82a1071-7382-4eda-cd63-e0f2a62f66d0"
      },
      "execution_count": null,
      "outputs": [
        {
          "output_type": "execute_result",
          "data": {
            "text/plain": [
              "60000"
            ]
          },
          "metadata": {},
          "execution_count": 4
        }
      ]
    },
    {
      "cell_type": "code",
      "source": [
        "len(x_test)"
      ],
      "metadata": {
        "colab": {
          "base_uri": "https://localhost:8080/"
        },
        "id": "MWqBS5zx8r_C",
        "outputId": "aaf5e158-133b-417f-b104-9ea7255c2d73"
      },
      "execution_count": null,
      "outputs": [
        {
          "output_type": "execute_result",
          "data": {
            "text/plain": [
              "10000"
            ]
          },
          "metadata": {},
          "execution_count": 5
        }
      ]
    },
    {
      "cell_type": "code",
      "source": [
        "plt.matshow(x_train[10])"
      ],
      "metadata": {
        "colab": {
          "base_uri": "https://localhost:8080/",
          "height": 455
        },
        "id": "hV4fAkqN8xhO",
        "outputId": "6b250cd4-f127-4233-ed50-58ae5fee80a8"
      },
      "execution_count": null,
      "outputs": [
        {
          "output_type": "execute_result",
          "data": {
            "text/plain": [
              "<matplotlib.image.AxesImage at 0x7d9a7b404940>"
            ]
          },
          "metadata": {},
          "execution_count": 6
        },
        {
          "output_type": "display_data",
          "data": {
            "text/plain": [
              "<Figure size 480x480 with 1 Axes>"
            ],
            "image/png": "[encoded data removed]"
          },
          "metadata": {}
        }
      ]
    },
    {
      "cell_type": "code",
      "source": [
        "y_train[10]"
      ],
      "metadata": {
        "colab": {
          "base_uri": "https://localhost:8080/"
        },
        "id": "bE54215286jS",
        "outputId": "b98a6189-0f12-4cc8-b1fb-1a8400146ed7"
      },
      "execution_count": null,
      "outputs": [
        {
          "output_type": "execute_result",
          "data": {
            "text/plain": [
              "3"
            ]
          },
          "metadata": {},
          "execution_count": 7
        }
      ]
    },
    {
      "cell_type": "code",
      "source": [
        "x_train.shape"
      ],
      "metadata": {
        "colab": {
          "base_uri": "https://localhost:8080/"
        },
        "id": "YQifCsCE9Fra",
        "outputId": "0eb3ae00-a5e9-4d98-eeed-eebcba3e7a1a"
      },
      "execution_count": null,
      "outputs": [
        {
          "output_type": "execute_result",
          "data": {
            "text/plain": [
              "(60000, 28, 28)"
            ]
          },
          "metadata": {},
          "execution_count": 8
        }
      ]
    },
    {
      "cell_type": "code",
      "source": [
        "#x_train=x_train/255\n",
        "x_test=x_test/255"
      ],
      "metadata": {
        "id": "3qThVSP_7Pt9"
      },
      "execution_count": null,
      "outputs": []
    },
    {
      "cell_type": "code",
      "source": [
        "#x_train_flatten=x_train.reshape(len(x_train),28*28)\n",
        "x_test_flatten=x_test.reshape(len(x_test),28*28)"
      ],
      "metadata": {
        "id": "WKNAvBkf9STX"
      },
      "execution_count": null,
      "outputs": []
    },
    {
      "cell_type": "code",
      "source": [
        "x_test_flatten.shape"
      ],
      "metadata": {
        "colab": {
          "base_uri": "https://localhost:8080/"
        },
        "id": "aNUQqpL49i7j",
        "outputId": "f5189516-0096-4012-cdbd-a669b6025119"
      },
      "execution_count": null,
      "outputs": [
        {
          "output_type": "execute_result",
          "data": {
            "text/plain": [
              "(10000, 784)"
            ]
          },
          "metadata": {},
          "execution_count": 11
        }
      ]
    },
    {
      "cell_type": "code",
      "source": [
        "model = keras.Sequential([\n",
        "     keras.layers.Flatten(input_shape=(28,28)),\n",
        "     keras.layers.Dense(100,input_shape=(784,),activation='relu'),\n",
        "     keras.layers.Dense(10,activation='sigmoid')\n",
        "     ])\n",
        "\n",
        "model.compile(\n",
        "    optimizer='Adam',\n",
        "    loss='sparse_categorical_crossentropy',\n",
        "    metrics=['accuracy']\n",
        ")\n",
        "model.fit(x_train, y_train, epochs=10 ,batch_size=2)"
      ],
      "metadata": {
        "colab": {
          "base_uri": "https://localhost:8080/"
        },
        "id": "i0T_RQYJBUVN",
        "outputId": "8b1be2da-90e6-4f85-9b34-2da81631f4b3"
      },
      "execution_count": null,
      "outputs": [
        {
          "output_type": "stream",
          "name": "stdout",
          "text": [
            "Epoch 1/10\n",
            "30000/30000 [==============================] - 101s 3ms/step - loss: 1.3813 - accuracy: 0.7878\n",
            "Epoch 2/10\n",
            "30000/30000 [==============================] - 87s 3ms/step - loss: 0.7063 - accuracy: 0.8503\n",
            "Epoch 3/10\n",
            "30000/30000 [==============================] - 91s 3ms/step - loss: 0.7301 - accuracy: 0.8541\n",
            "Epoch 4/10\n",
            "30000/30000 [==============================] - 91s 3ms/step - loss: 0.6928 - accuracy: 0.8619\n",
            "Epoch 5/10\n",
            "30000/30000 [==============================] - 86s 3ms/step - loss: 0.7166 - accuracy: 0.8605\n",
            "Epoch 6/10\n",
            "30000/30000 [==============================] - 94s 3ms/step - loss: 0.7009 - accuracy: 0.8639\n",
            "Epoch 7/10\n",
            "30000/30000 [==============================] - 81s 3ms/step - loss: 0.7044 - accuracy: 0.8590\n",
            "Epoch 8/10\n",
            "30000/30000 [==============================] - 77s 3ms/step - loss: 0.6944 - accuracy: 0.8648\n",
            "Epoch 9/10\n",
            "30000/30000 [==============================] - 78s 3ms/step - loss: 0.7017 - accuracy: 0.8615\n",
            "Epoch 10/10\n",
            "30000/30000 [==============================] - 89s 3ms/step - loss: 0.7259 - accuracy: 0.8602\n"
          ]
        },
        {
          "output_type": "execute_result",
          "data": {
            "text/plain": [
              "<keras.callbacks.History at 0x7d9a7856f610>"
            ]
          },
          "metadata": {},
          "execution_count": 12
        }
      ]
    },
    {
      "cell_type": "code",
      "source": [
        "model.evaluate(x_test,y_test)"
      ],
      "metadata": {
        "colab": {
          "base_uri": "https://localhost:8080/"
        },
        "id": "kRFuMWQs6y1Q",
        "outputId": "1f55939c-25ba-42b5-b2ee-bb80abc0ac51"
      },
      "execution_count": null,
      "outputs": [
        {
          "output_type": "stream",
          "name": "stdout",
          "text": [
            "313/313 [==============================] - 1s 2ms/step - loss: 2.4124 - accuracy: 0.1119\n"
          ]
        },
        {
          "output_type": "execute_result",
          "data": {
            "text/plain": [
              "[2.4124033451080322, 0.11190000176429749]"
            ]
          },
          "metadata": {},
          "execution_count": 13
        }
      ]
    },
    {
      "cell_type": "code",
      "source": [
        "plt.matshow(x_test[2])"
      ],
      "metadata": {
        "colab": {
          "base_uri": "https://localhost:8080/",
          "height": 455
        },
        "id": "E-bJGzzP77te",
        "outputId": "d7c7699a-f6f8-4474-c1cb-82fe0002fc18"
      },
      "execution_count": null,
      "outputs": [
        {
          "output_type": "execute_result",
          "data": {
            "text/plain": [
              "<matplotlib.image.AxesImage at 0x7d9a6f8201f0>"
            ]
          },
          "metadata": {},
          "execution_count": 14
        },
        {
          "output_type": "display_data",
          "data": {
            "text/plain": [
              "<Figure size 480x480 with 1 Axes>"
            ],
            "image/png": "[encoded data removed]"
          },
          "metadata": {}
        }
      ]
    },
    {
      "cell_type": "code",
      "source": [
        "y_pred=model.predict(x_test)"
      ],
      "metadata": {
        "colab": {
          "base_uri": "https://localhost:8080/"
        },
        "id": "tUhIlZCv7t5i",
        "outputId": "55f45fcb-9544-42c9-fd34-bbac7227e750"
      },
      "execution_count": null,
      "outputs": [
        {
          "output_type": "stream",
          "name": "stdout",
          "text": [
            "313/313 [==============================] - 1s 2ms/step\n"
          ]
        }
      ]
    },
    {
      "cell_type": "code",
      "source": [
        "y_pred[2]"
      ],
      "metadata": {
        "colab": {
          "base_uri": "https://localhost:8080/"
        },
        "id": "rRgT89wo8HR0",
        "outputId": "1d331151-02be-487c-bd82-a04ae47ac3d2"
      },
      "execution_count": null,
      "outputs": [
        {
          "output_type": "execute_result",
          "data": {
            "text/plain": [
              "array([0.0400273 , 0.05373961, 0.12182957, 0.11276971, 0.06596194,\n",
              "       0.0843316 , 0.08076002, 0.06236132, 0.4537414 , 0.09426739],\n",
              "      dtype=float32)"
            ]
          },
          "metadata": {},
          "execution_count": 16
        }
      ]
    },
    {
      "cell_type": "code",
      "source": [
        "np.argmax(y_pred[2])"
      ],
      "metadata": {
        "colab": {
          "base_uri": "https://localhost:8080/"
        },
        "id": "s_Pf5Uva8YbK",
        "outputId": "70b614c2-fddd-468d-f0af-3ed2c90479c8"
      },
      "execution_count": null,
      "outputs": [
        {
          "output_type": "execute_result",
          "data": {
            "text/plain": [
              "8"
            ]
          },
          "metadata": {},
          "execution_count": 17
        }
      ]
    },
    {
      "cell_type": "code",
      "source": [
        "y_pred_labels=[np.argmax(i)for i in y_pred]\n",
        "y_pred_labels[2]"
      ],
      "metadata": {
        "colab": {
          "base_uri": "https://localhost:8080/"
        },
        "id": "_m-Zv3bB8zNe",
        "outputId": "b97a18cb-3715-44a7-afec-c989e24e68ad"
      },
      "execution_count": null,
      "outputs": [
        {
          "output_type": "execute_result",
          "data": {
            "text/plain": [
              "8"
            ]
          },
          "metadata": {},
          "execution_count": 18
        }
      ]
    },
    {
      "cell_type": "code",
      "source": [
        "cm=tf.math.confusion_matrix(labels=y_test,predictions=y_pred_labels)\n",
        "cm"
      ],
      "metadata": {
        "colab": {
          "base_uri": "https://localhost:8080/"
        },
        "id": "pjOz5m5o8dWI",
        "outputId": "53054dba-944d-4beb-a4ec-1157c3f8b4aa"
      },
      "execution_count": null,
      "outputs": [
        {
          "output_type": "execute_result",
          "data": {
            "text/plain": [
              "<tf.Tensor: shape=(10, 10), dtype=int32, numpy=\n",
              "array([[   3,    0,   34,    0,    0,   11,    0,    0,  932,    0],\n",
              "       [   0,    0,    0,    0,    0,    0,    0,    0, 1135,    0],\n",
              "       [   0,    0,   24,    0,    0,    0,    0,    0, 1008,    0],\n",
              "       [   0,    0,    1,    4,    0,    0,    0,    0, 1005,    0],\n",
              "       [   0,    0,    0,    0,    0,    0,    0,    0,  982,    0],\n",
              "       [   0,    0,    0,    3,    0,    0,    0,    0,  889,    0],\n",
              "       [   0,    0,    6,    0,    0,    0,    0,    0,  952,    0],\n",
              "       [   0,    0,  291,    1,    0,   20,    0,  114,  508,   94],\n",
              "       [   0,    0,    0,    0,    0,    0,    0,    0,  974,    0],\n",
              "       [   0,    0,    0,    0,    0,    0,    0,    0, 1009,    0]],\n",
              "      dtype=int32)>"
            ]
          },
          "metadata": {},
          "execution_count": 19
        }
      ]
    },
    {
      "cell_type": "code",
      "source": [
        "import seaborn as sns\n",
        "plt.figure(figsize=(10,7))\n",
        "sns.heatmap(cm,annot=True,fmt='d')\n",
        "plt.xlabel('predicted')\n",
        "plt.ylabel('real')"
      ],
      "metadata": {
        "colab": {
          "base_uri": "https://localhost:8080/",
          "height": 637
        },
        "id": "-LCCRDvn-Cp_",
        "outputId": "452eb638-e9b6-4756-fe86-05cff8dd3d69"
      },
      "execution_count": null,
      "outputs": [
        {
          "output_type": "execute_result",
          "data": {
            "text/plain": [
              "Text(95.72222222222221, 0.5, 'real')"
            ]
          },
          "metadata": {},
          "execution_count": 20
        },
        {
          "output_type": "display_data",
          "data": {
            "text/plain": [
              "<Figure size 1000x700 with 2 Axes>"
            ],
            "image/png": "[encoded data removed]"
          },
          "metadata": {}
        }
      ]
    },
    {
      "cell_type": "code",
      "source": [],
      "metadata": {
        "id": "mpj0jUBqpZv7"
      },
      "execution_count": null,
      "outputs": []
    }
  ]
}